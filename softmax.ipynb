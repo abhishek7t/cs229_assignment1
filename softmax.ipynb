{
 "cells": [
  {
   "cell_type": "code",
   "execution_count": null,
   "id": "149d5b7e",
   "metadata": {},
   "outputs": [],
   "source": [
    "# This mounts your Google Drive to the Colab VM.\n",
    "from google.colab import drive\n",
    "drive.mount('/content/drive')\n",
    "\n",
    "# TODO: Enter the foldername in your Drive where you have saved the unzipped\n",
    "# assignment folder, e.g. 'cs231n/assignments/assignment1/'\n",
    "FOLDERNAME = None\n",
    "assert FOLDERNAME is not None, \"[!] Enter the foldername.\"\n",
    "\n",
    "# Now that we've mounted your Drive, this ensures that\n",
    "# the Python interpreter of the Colab VM can load\n",
    "# python files from within it.\n",
    "import sys\n",
    "sys.path.append('/content/drive/My Drive/{}'.format(FOLDERNAME))\n",
    "\n",
    "# This downloads the CIFAR-10 dataset to your Drive\n",
    "# if it doesn't already exist.\n",
    "%cd /content/drive/My\\ Drive/$FOLDERNAME/cs231n/datasets/\n",
    "!bash get_datasets.sh\n",
    "%cd /content/drive/My\\ Drive/$FOLDERNAME"
   ]
  },
  {
   "cell_type": "code",
   "execution_count": 4,
   "id": "ba02ea18",
   "metadata": {},
   "outputs": [
    {
     "name": "stdout",
     "output_type": "stream",
     "text": [
      "Looking in indexes: https://pypi.org/simple, https://pypi.ngc.nvidia.com\n",
      "Collecting imageio\n",
      "  Downloading imageio-2.31.5-py3-none-any.whl (313 kB)\n",
      "\u001b[K     |████████████████████████████████| 313 kB 2.3 MB/s eta 0:00:01\n",
      "\u001b[?25hRequirement already satisfied: numpy in /usr/local/lib/python3.8/dist-packages (from imageio) (1.22.2)\n",
      "Requirement already satisfied: pillow>=8.3.2 in /usr/local/lib/python3.8/dist-packages (from imageio) (9.2.0)\n",
      "Installing collected packages: imageio\n",
      "Successfully installed imageio-2.31.5\n",
      "\u001b[33mWARNING: Running pip as the 'root' user can result in broken permissions and conflicting behaviour with the system package manager. It is recommended to use a virtual environment instead: https://pip.pypa.io/warnings/venv\u001b[0m\n",
      "\u001b[33mWARNING: You are using pip version 21.2.4; however, version 23.3.1 is available.\n",
      "You should consider upgrading via the '/usr/bin/python -m pip install --upgrade pip' command.\u001b[0m\n"
     ]
    }
   ],
   "source": [
    "!pip install imageio"
   ]
  },
  {
   "cell_type": "code",
   "execution_count": 8,
   "id": "22b2ed84",
   "metadata": {},
   "outputs": [
    {
     "name": "stdout",
     "output_type": "stream",
     "text": [
      "Looking in indexes: https://pypi.org/simple, https://pypi.ngc.nvidia.com\n",
      "Collecting future\n",
      "  Downloading future-0.18.3.tar.gz (840 kB)\n",
      "\u001b[K     |████████████████████████████████| 840 kB 4.2 MB/s eta 0:00:01\n",
      "\u001b[?25hBuilding wheels for collected packages: future\n",
      "  Building wheel for future (setup.py) ... \u001b[?25ldone\n",
      "\u001b[?25h  Created wheel for future: filename=future-0.18.3-py3-none-any.whl size=492037 sha256=6d3739dccb07cafed4831da389eee578622a0e5080180079c56ab3b451eaca16\n",
      "  Stored in directory: /tmp/pip-ephem-wheel-cache-5o00j9rz/wheels/a0/0b/ee/e6994fadb42c1354dcccb139b0bf2795271bddfe6253ccdf11\n",
      "Successfully built future\n",
      "Installing collected packages: future\n",
      "Successfully installed future-0.18.3\n",
      "\u001b[33mWARNING: Running pip as the 'root' user can result in broken permissions and conflicting behaviour with the system package manager. It is recommended to use a virtual environment instead: https://pip.pypa.io/warnings/venv\u001b[0m\n",
      "\u001b[33mWARNING: You are using pip version 21.2.4; however, version 23.3.1 is available.\n",
      "You should consider upgrading via the '/usr/bin/python -m pip install --upgrade pip' command.\u001b[0m\n"
     ]
    }
   ],
   "source": [
    "!pip install future"
   ]
  },
  {
   "cell_type": "markdown",
   "id": "5fdfc27e",
   "metadata": {
    "tags": [
     "pdf-title"
    ]
   },
   "source": [
    "# Softmax exercise\n",
    "\n",
    "*Complete and hand in this completed worksheet (including its outputs and any supporting code outside of the worksheet) with your assignment submission. For more details see the [assignments page](http://vision.stanford.edu/teaching/cs231n/assignments.html) on the course website.*\n",
    "\n",
    "This exercise is analogous to the SVM exercise. You will:\n",
    "\n",
    "- implement a fully-vectorized **loss function** for the Softmax classifier\n",
    "- implement the fully-vectorized expression for its **analytic gradient**\n",
    "- **check your implementation** with numerical gradient\n",
    "- use a validation set to **tune the learning rate and regularization** strength\n",
    "- **optimize** the loss function with **SGD**\n",
    "- **visualize** the final learned weights\n"
   ]
  },
  {
   "cell_type": "code",
   "execution_count": 9,
   "id": "ca6cf2d4",
   "metadata": {
    "tags": [
     "pdf-ignore"
    ]
   },
   "outputs": [
    {
     "name": "stdout",
     "output_type": "stream",
     "text": [
      "The autoreload extension is already loaded. To reload it, use:\n",
      "  %reload_ext autoreload\n"
     ]
    }
   ],
   "source": [
    "import random\n",
    "import numpy as np\n",
    "from cs231n.data_utils import load_CIFAR10\n",
    "import matplotlib.pyplot as plt\n",
    "\n",
    "%matplotlib inline\n",
    "plt.rcParams['figure.figsize'] = (10.0, 8.0) # set default size of plots\n",
    "plt.rcParams['image.interpolation'] = 'nearest'\n",
    "plt.rcParams['image.cmap'] = 'gray'\n",
    "\n",
    "# for auto-reloading extenrnal modules\n",
    "# see http://stackoverflow.com/questions/1907993/autoreload-of-modules-in-ipython\n",
    "%load_ext autoreload\n",
    "%autoreload 2"
   ]
  },
  {
   "cell_type": "code",
   "execution_count": 10,
   "id": "9e9bbbbe",
   "metadata": {
    "tags": [
     "pdf-ignore"
    ]
   },
   "outputs": [
    {
     "name": "stdout",
     "output_type": "stream",
     "text": [
      "Train data shape:  (49000, 3073)\n",
      "Train labels shape:  (49000,)\n",
      "Validation data shape:  (1000, 3073)\n",
      "Validation labels shape:  (1000,)\n",
      "Test data shape:  (1000, 3073)\n",
      "Test labels shape:  (1000,)\n",
      "dev data shape:  (500, 3073)\n",
      "dev labels shape:  (500,)\n"
     ]
    }
   ],
   "source": [
    "def get_CIFAR10_data(num_training=49000, num_validation=1000, num_test=1000, num_dev=500):\n",
    "    \"\"\"\n",
    "    Load the CIFAR-10 dataset from disk and perform preprocessing to prepare\n",
    "    it for the linear classifier. These are the same steps as we used for the\n",
    "    SVM, but condensed to a single function.  \n",
    "    \"\"\"\n",
    "    # Load the raw CIFAR-10 data\n",
    "    cifar10_dir = '../data/cifar-10-batches-py/'\n",
    "    \n",
    "    # Cleaning up variables to prevent loading data multiple times (which may cause memory issue)\n",
    "    try:\n",
    "       del X_train, y_train\n",
    "       del X_test, y_test\n",
    "       print('Clear previously loaded data.')\n",
    "    except:\n",
    "       pass\n",
    "\n",
    "    X_train, y_train, X_test, y_test = load_CIFAR10(cifar10_dir)\n",
    "    \n",
    "    # subsample the data\n",
    "    mask = list(range(num_training, num_training + num_validation))\n",
    "    X_val = X_train[mask]\n",
    "    y_val = y_train[mask]\n",
    "    mask = list(range(num_training))\n",
    "    X_train = X_train[mask]\n",
    "    y_train = y_train[mask]\n",
    "    mask = list(range(num_test))\n",
    "    X_test = X_test[mask]\n",
    "    y_test = y_test[mask]\n",
    "    mask = np.random.choice(num_training, num_dev, replace=False)\n",
    "    X_dev = X_train[mask]\n",
    "    y_dev = y_train[mask]\n",
    "    \n",
    "    # Preprocessing: reshape the image data into rows\n",
    "    X_train = np.reshape(X_train, (X_train.shape[0], -1))\n",
    "    X_val = np.reshape(X_val, (X_val.shape[0], -1))\n",
    "    X_test = np.reshape(X_test, (X_test.shape[0], -1))\n",
    "    X_dev = np.reshape(X_dev, (X_dev.shape[0], -1))\n",
    "    \n",
    "    # Normalize the data: subtract the mean image\n",
    "    mean_image = np.mean(X_train, axis = 0)\n",
    "    X_train -= mean_image\n",
    "    X_val -= mean_image\n",
    "    X_test -= mean_image\n",
    "    X_dev -= mean_image\n",
    "    \n",
    "    # add bias dimension and transform into columns\n",
    "    X_train = np.hstack([X_train, np.ones((X_train.shape[0], 1))])\n",
    "    X_val = np.hstack([X_val, np.ones((X_val.shape[0], 1))])\n",
    "    X_test = np.hstack([X_test, np.ones((X_test.shape[0], 1))])\n",
    "    X_dev = np.hstack([X_dev, np.ones((X_dev.shape[0], 1))])\n",
    "    \n",
    "    return X_train, y_train, X_val, y_val, X_test, y_test, X_dev, y_dev\n",
    "\n",
    "\n",
    "# Invoke the above function to get our data.\n",
    "X_train, y_train, X_val, y_val, X_test, y_test, X_dev, y_dev = get_CIFAR10_data()\n",
    "print('Train data shape: ', X_train.shape)\n",
    "print('Train labels shape: ', y_train.shape)\n",
    "print('Validation data shape: ', X_val.shape)\n",
    "print('Validation labels shape: ', y_val.shape)\n",
    "print('Test data shape: ', X_test.shape)\n",
    "print('Test labels shape: ', y_test.shape)\n",
    "print('dev data shape: ', X_dev.shape)\n",
    "print('dev labels shape: ', y_dev.shape)"
   ]
  },
  {
   "cell_type": "markdown",
   "id": "d4c3fb04",
   "metadata": {},
   "source": [
    "## Softmax Classifier\n",
    "\n",
    "Your code for this section will all be written inside `cs231n/classifiers/softmax.py`.\n"
   ]
  },
  {
   "cell_type": "code",
   "execution_count": 11,
   "id": "25f2e5e1",
   "metadata": {},
   "outputs": [
    {
     "name": "stdout",
     "output_type": "stream",
     "text": [
      "loss: 2.351428\n",
      "sanity check: 2.302585\n"
     ]
    }
   ],
   "source": [
    "# First implement the naive softmax loss function with nested loops.\n",
    "# Open the file cs231n/classifiers/softmax.py and implement the\n",
    "# softmax_loss_naive function.\n",
    "\n",
    "from cs231n.classifiers.softmax import softmax_loss_naive\n",
    "import time\n",
    "\n",
    "# Generate a random softmax weight matrix and use it to compute the loss.\n",
    "W = np.random.randn(3073, 10) * 0.0001\n",
    "loss, grad = softmax_loss_naive(W, X_dev, y_dev, 0.0)\n",
    "\n",
    "# As a rough sanity check, our loss should be something close to -log(0.1).\n",
    "print('loss: %f' % loss)\n",
    "print('sanity check: %f' % (-np.log(0.1)))"
   ]
  },
  {
   "cell_type": "markdown",
   "id": "15ebc638",
   "metadata": {
    "tags": [
     "pdf-inline"
    ]
   },
   "source": [
    "**Inline Question 1**\n",
    "\n",
    "Why do we expect our loss to be close to -log(0.1)? Explain briefly.**\n",
    "\n",
    "$\\color{blue}{\\textit Your Answer:}$ *Fill this in* \n",
    "\n"
   ]
  },
  {
   "cell_type": "code",
   "execution_count": 12,
   "id": "a8cb3eb1",
   "metadata": {},
   "outputs": [
    {
     "name": "stdout",
     "output_type": "stream",
     "text": [
      "numerical: 3.779734 analytic: 3.779734, relative error: 1.211217e-09\n",
      "numerical: 1.131043 analytic: 1.131043, relative error: 1.363524e-08\n",
      "numerical: -0.389687 analytic: -0.389687, relative error: 3.183323e-08\n",
      "numerical: -0.274622 analytic: -0.274623, relative error: 1.609359e-07\n",
      "numerical: -5.875839 analytic: -5.875839, relative error: 6.977252e-09\n",
      "numerical: 1.046009 analytic: 1.046009, relative error: 3.951086e-08\n",
      "numerical: 2.301136 analytic: 2.301136, relative error: 4.769620e-09\n",
      "numerical: -0.274703 analytic: -0.274703, relative error: 4.245383e-08\n",
      "numerical: 0.424016 analytic: 0.424016, relative error: 5.927077e-08\n",
      "numerical: 0.920671 analytic: 0.920671, relative error: 5.542158e-08\n",
      "numerical: 1.477948 analytic: 1.477948, relative error: 5.101976e-09\n",
      "numerical: 0.735892 analytic: 0.735892, relative error: 2.296977e-08\n",
      "numerical: -3.681200 analytic: -3.681200, relative error: 4.551289e-09\n",
      "numerical: -7.681487 analytic: -7.681486, relative error: 5.636338e-09\n",
      "numerical: 0.750183 analytic: 0.750183, relative error: 2.055736e-08\n",
      "numerical: -4.142990 analytic: -4.142990, relative error: 2.018994e-08\n",
      "numerical: 1.666424 analytic: 1.666424, relative error: 3.618443e-08\n",
      "numerical: -0.501474 analytic: -0.501474, relative error: 9.514369e-08\n",
      "numerical: -0.550680 analytic: -0.550680, relative error: 1.513574e-09\n",
      "numerical: -0.167204 analytic: -0.167204, relative error: 6.062433e-08\n"
     ]
    }
   ],
   "source": [
    "# Complete the implementation of softmax_loss_naive and implement a (naive)\n",
    "# version of the gradient that uses nested loops.\n",
    "loss, grad = softmax_loss_naive(W, X_dev, y_dev, 0.0)\n",
    "\n",
    "# As we did for the SVM, use numeric gradient checking as a debugging tool.\n",
    "# The numeric gradient should be close to the analytic gradient.\n",
    "from cs231n.gradient_check import grad_check_sparse\n",
    "f = lambda w: softmax_loss_naive(w, X_dev, y_dev, 0.0)[0]\n",
    "grad_numerical = grad_check_sparse(f, W, grad, 10)\n",
    "\n",
    "# similar to SVM case, do another gradient check with regularization\n",
    "loss, grad = softmax_loss_naive(W, X_dev, y_dev, 5e1)\n",
    "f = lambda w: softmax_loss_naive(w, X_dev, y_dev, 5e1)[0]\n",
    "grad_numerical = grad_check_sparse(f, W, grad, 10)"
   ]
  },
  {
   "cell_type": "code",
   "execution_count": 13,
   "id": "4a4a81d4",
   "metadata": {},
   "outputs": [
    {
     "name": "stdout",
     "output_type": "stream",
     "text": [
      "naive loss: 2.351428e+00 computed in 0.108460s\n",
      "vectorized loss: 2.351428e+00 computed in 0.239213s\n",
      "Loss difference: 0.000000\n",
      "Gradient difference: 0.000000\n"
     ]
    }
   ],
   "source": [
    "# Now that we have a naive implementation of the softmax loss function and its gradient,\n",
    "# implement a vectorized version in softmax_loss_vectorized.\n",
    "# The two versions should compute the same results, but the vectorized version should be\n",
    "# much faster.\n",
    "tic = time.time()\n",
    "loss_naive, grad_naive = softmax_loss_naive(W, X_dev, y_dev, 0.000005)\n",
    "toc = time.time()\n",
    "print('naive loss: %e computed in %fs' % (loss_naive, toc - tic))\n",
    "\n",
    "from cs231n.classifiers.softmax import softmax_loss_vectorized\n",
    "tic = time.time()\n",
    "loss_vectorized, grad_vectorized = softmax_loss_vectorized(W, X_dev, y_dev, 0.000005)\n",
    "toc = time.time()\n",
    "print('vectorized loss: %e computed in %fs' % (loss_vectorized, toc - tic))\n",
    "\n",
    "# As we did for the SVM, we use the Frobenius norm to compare the two versions\n",
    "# of the gradient.\n",
    "grad_difference = np.linalg.norm(grad_naive - grad_vectorized, ord='fro')\n",
    "print('Loss difference: %f' % np.abs(loss_naive - loss_vectorized))\n",
    "print('Gradient difference: %f' % grad_difference)"
   ]
  },
  {
   "cell_type": "code",
   "execution_count": 15,
   "id": "a3453536",
   "metadata": {
    "tags": [
     "code"
    ],
    "test": "tuning"
   },
   "outputs": [
    {
     "name": "stdout",
     "output_type": "stream",
     "text": [
      "iteration 0 / 1000: loss 774.082183\n",
      "iteration 100 / 1000: loss 283.901587\n",
      "iteration 200 / 1000: loss 105.193895\n",
      "iteration 300 / 1000: loss 39.815446\n",
      "iteration 400 / 1000: loss 15.936589\n",
      "iteration 500 / 1000: loss 7.136804\n",
      "iteration 600 / 1000: loss 3.931204\n",
      "iteration 700 / 1000: loss 2.812874\n",
      "iteration 800 / 1000: loss 2.338471\n",
      "iteration 900 / 1000: loss 2.179485\n",
      "iteration 0 / 1000: loss 1539.597042\n",
      "iteration 100 / 1000: loss 207.566623\n",
      "iteration 200 / 1000: loss 29.593075\n",
      "iteration 300 / 1000: loss 5.790205\n",
      "iteration 400 / 1000: loss 2.600230\n",
      "iteration 500 / 1000: loss 2.178710\n",
      "iteration 600 / 1000: loss 2.185348\n",
      "iteration 700 / 1000: loss 2.158724\n",
      "iteration 800 / 1000: loss 2.187064\n",
      "iteration 900 / 1000: loss 2.119173\n",
      "iteration 0 / 1000: loss 3080.833974\n",
      "iteration 100 / 1000: loss 56.135000\n",
      "iteration 200 / 1000: loss 3.099436\n",
      "iteration 300 / 1000: loss 2.213408\n",
      "iteration 400 / 1000: loss 2.167362\n",
      "iteration 500 / 1000: loss 2.212123\n",
      "iteration 600 / 1000: loss 2.214670\n",
      "iteration 700 / 1000: loss 2.225689\n",
      "iteration 800 / 1000: loss 2.204259\n",
      "iteration 900 / 1000: loss 2.189703\n",
      "iteration 0 / 1000: loss 311.922109\n",
      "iteration 100 / 1000: loss 208.197464\n",
      "iteration 200 / 1000: loss 139.703881\n",
      "iteration 300 / 1000: loss 94.030623\n",
      "iteration 400 / 1000: loss 63.720893\n",
      "iteration 500 / 1000: loss 43.221787\n",
      "iteration 600 / 1000: loss 29.512424\n",
      "iteration 700 / 1000: loss 20.283815\n",
      "iteration 800 / 1000: loss 14.177244\n",
      "iteration 900 / 1000: loss 10.258102\n",
      "iteration 0 / 1000: loss 772.999723\n",
      "iteration 100 / 1000: loss 699.153276\n",
      "iteration 200 / 1000: loss 632.193661\n",
      "iteration 300 / 1000: loss 572.257324\n",
      "iteration 400 / 1000: loss 517.178517\n",
      "iteration 500 / 1000: loss 467.608485\n",
      "iteration 600 / 1000: loss 423.303587\n",
      "iteration 700 / 1000: loss 383.284780\n",
      "iteration 800 / 1000: loss 346.651408\n",
      "iteration 900 / 1000: loss 313.838533\n",
      "iteration 0 / 1000: loss 1532.285201\n",
      "iteration 100 / 1000: loss 1254.422940\n",
      "iteration 200 / 1000: loss 1027.099162\n",
      "iteration 300 / 1000: loss 840.777145\n",
      "iteration 400 / 1000: loss 688.338106\n",
      "iteration 500 / 1000: loss 564.006206\n",
      "iteration 600 / 1000: loss 461.710330\n",
      "iteration 700 / 1000: loss 378.337774\n",
      "iteration 800 / 1000: loss 310.038100\n",
      "iteration 900 / 1000: loss 253.900536\n",
      "iteration 0 / 1000: loss 3060.144660\n",
      "iteration 100 / 1000: loss 2050.944423\n",
      "iteration 200 / 1000: loss 1374.485207\n",
      "iteration 300 / 1000: loss 921.325763\n",
      "iteration 400 / 1000: loss 617.855784\n",
      "iteration 500 / 1000: loss 414.457285\n",
      "iteration 600 / 1000: loss 278.353021\n",
      "iteration 700 / 1000: loss 187.143704\n",
      "iteration 800 / 1000: loss 126.090875\n",
      "iteration 900 / 1000: loss 85.214050\n",
      "iteration 0 / 1000: loss 309.237480\n",
      "iteration 100 / 1000: loss 296.745532\n",
      "iteration 200 / 1000: loss 285.395269\n",
      "iteration 300 / 1000: loss 273.747753\n",
      "iteration 400 / 1000: loss 262.927430\n",
      "iteration 500 / 1000: loss 252.232548\n",
      "iteration 600 / 1000: loss 242.452659\n",
      "iteration 700 / 1000: loss 232.669570\n",
      "iteration 800 / 1000: loss 223.797878\n",
      "iteration 900 / 1000: loss 214.799717\n",
      "iteration 0 / 1000: loss 760.707291\n",
      "iteration 100 / 1000: loss 2.152415\n",
      "iteration 200 / 1000: loss 2.047258\n",
      "iteration 300 / 1000: loss 2.057007\n",
      "iteration 400 / 1000: loss 2.124420\n",
      "iteration 500 / 1000: loss 2.089160\n",
      "iteration 600 / 1000: loss 2.128286\n",
      "iteration 700 / 1000: loss 2.056161\n",
      "iteration 800 / 1000: loss 2.124221\n",
      "iteration 900 / 1000: loss 2.173731\n",
      "iteration 0 / 1000: loss 1532.233605\n",
      "iteration 100 / 1000: loss 2.221780\n",
      "iteration 200 / 1000: loss 2.152122\n",
      "iteration 300 / 1000: loss 2.110727\n",
      "iteration 400 / 1000: loss 2.180582\n",
      "iteration 500 / 1000: loss 2.168899\n",
      "iteration 600 / 1000: loss 2.160555\n",
      "iteration 700 / 1000: loss 2.215860\n",
      "iteration 800 / 1000: loss 2.150621\n",
      "iteration 900 / 1000: loss 2.150728\n",
      "iteration 0 / 1000: loss 3062.177144\n",
      "iteration 100 / 1000: loss 2.231587\n",
      "iteration 200 / 1000: loss 2.157457\n",
      "iteration 300 / 1000: loss 2.228952\n",
      "iteration 400 / 1000: loss 2.204392\n",
      "iteration 500 / 1000: loss 2.135036\n",
      "iteration 600 / 1000: loss 2.207891\n",
      "iteration 700 / 1000: loss 2.220278\n",
      "iteration 800 / 1000: loss 2.205860\n",
      "iteration 900 / 1000: loss 2.213830\n",
      "iteration 0 / 1000: loss 312.089725\n",
      "iteration 100 / 1000: loss 7.347660\n",
      "iteration 200 / 1000: loss 2.085099\n",
      "iteration 300 / 1000: loss 2.076720\n",
      "iteration 400 / 1000: loss 2.012128\n",
      "iteration 500 / 1000: loss 2.065305\n",
      "iteration 600 / 1000: loss 2.118785\n",
      "iteration 700 / 1000: loss 2.081797\n",
      "iteration 800 / 1000: loss 2.043143\n",
      "iteration 900 / 1000: loss 1.995169\n",
      "iteration 0 / 1000: loss 780.923648\n"
     ]
    },
    {
     "name": "stderr",
     "output_type": "stream",
     "text": [
      "/tf_tutorials/pytorch/assignment1/cs231n/classifiers/softmax.py:98: RuntimeWarning: divide by zero encountered in log\n",
      "  l = -np.log(h[np.arange(N), y])\n",
      "/tf_tutorials/pytorch/assignment1/cs231n/classifiers/softmax.py:99: RuntimeWarning: overflow encountered in multiply\n",
      "  loss = np.sum(l) / N + reg * np.sum(W * W)\n",
      "/tf_tutorials/pytorch/assignment1/cs231n/classifiers/softmax.py:94: RuntimeWarning: overflow encountered in matmul\n",
      "  f = np.matmul(X, W)\n",
      "/tf_tutorials/pytorch/assignment1/cs231n/classifiers/softmax.py:94: RuntimeWarning: invalid value encountered in matmul\n",
      "  f = np.matmul(X, W)\n",
      "/tf_tutorials/pytorch/assignment1/cs231n/classifiers/softmax.py:116: RuntimeWarning: overflow encountered in multiply\n",
      "  dW = grad / N + 2 * reg * W\n"
     ]
    },
    {
     "name": "stdout",
     "output_type": "stream",
     "text": [
      "iteration 100 / 1000: loss nan\n",
      "iteration 200 / 1000: loss nan\n",
      "iteration 300 / 1000: loss nan\n",
      "iteration 400 / 1000: loss nan\n",
      "iteration 500 / 1000: loss nan\n",
      "iteration 600 / 1000: loss nan\n",
      "iteration 700 / 1000: loss nan\n",
      "iteration 800 / 1000: loss nan\n",
      "iteration 900 / 1000: loss nan\n",
      "iteration 0 / 1000: loss 1554.651367\n"
     ]
    },
    {
     "name": "stderr",
     "output_type": "stream",
     "text": [
      "/tf_tutorials/pytorch/assignment1/cs231n/classifiers/linear_classifier.py:86: RuntimeWarning: overflow encountered in multiply\n",
      "  self.W = self.W - learning_rate * grad\n"
     ]
    },
    {
     "name": "stdout",
     "output_type": "stream",
     "text": [
      "iteration 100 / 1000: loss nan\n",
      "iteration 200 / 1000: loss nan\n",
      "iteration 300 / 1000: loss nan\n",
      "iteration 400 / 1000: loss nan\n",
      "iteration 500 / 1000: loss nan\n",
      "iteration 600 / 1000: loss nan\n",
      "iteration 700 / 1000: loss nan\n",
      "iteration 800 / 1000: loss nan\n",
      "iteration 900 / 1000: loss nan\n",
      "iteration 0 / 1000: loss 3074.235115\n"
     ]
    },
    {
     "name": "stderr",
     "output_type": "stream",
     "text": [
      "/usr/local/lib/python3.8/dist-packages/numpy/core/fromnumeric.py:86: RuntimeWarning: overflow encountered in reduce\n",
      "  return ufunc.reduce(obj, axis, dtype, out, **passkwargs)\n"
     ]
    },
    {
     "name": "stdout",
     "output_type": "stream",
     "text": [
      "iteration 100 / 1000: loss nan\n",
      "iteration 200 / 1000: loss nan\n",
      "iteration 300 / 1000: loss nan\n",
      "iteration 400 / 1000: loss nan\n",
      "iteration 500 / 1000: loss nan\n",
      "iteration 600 / 1000: loss nan\n",
      "iteration 700 / 1000: loss nan\n",
      "iteration 800 / 1000: loss nan\n",
      "iteration 900 / 1000: loss nan\n",
      "iteration 0 / 1000: loss 310.881927\n",
      "iteration 100 / 1000: loss nan\n",
      "iteration 200 / 1000: loss nan\n",
      "iteration 300 / 1000: loss nan\n",
      "iteration 400 / 1000: loss nan\n",
      "iteration 500 / 1000: loss nan\n",
      "iteration 600 / 1000: loss nan\n",
      "iteration 700 / 1000: loss nan\n",
      "iteration 800 / 1000: loss nan\n",
      "iteration 900 / 1000: loss nan\n",
      "iteration 0 / 1000: loss 772.807267\n",
      "iteration 100 / 1000: loss 468.159539\n",
      "iteration 200 / 1000: loss 284.186210\n",
      "iteration 300 / 1000: loss 172.825298\n",
      "iteration 400 / 1000: loss 105.423669\n",
      "iteration 500 / 1000: loss 64.645895\n",
      "iteration 600 / 1000: loss 39.934970\n",
      "iteration 700 / 1000: loss 25.037027\n",
      "iteration 800 / 1000: loss 15.955792\n",
      "iteration 900 / 1000: loss 10.474039\n",
      "iteration 0 / 1000: loss 1548.151953\n",
      "iteration 100 / 1000: loss 568.415188\n",
      "iteration 200 / 1000: loss 209.591953\n",
      "iteration 300 / 1000: loss 78.092375\n",
      "iteration 400 / 1000: loss 29.952204\n",
      "iteration 500 / 1000: loss 12.354226\n",
      "iteration 600 / 1000: loss 5.852814\n",
      "iteration 700 / 1000: loss 3.482273\n",
      "iteration 800 / 1000: loss 2.624236\n",
      "iteration 900 / 1000: loss 2.277599\n",
      "iteration 0 / 1000: loss 3046.314205\n",
      "iteration 100 / 1000: loss 409.250691\n",
      "iteration 200 / 1000: loss 56.576026\n",
      "iteration 300 / 1000: loss 9.488852\n",
      "iteration 400 / 1000: loss 3.161469\n",
      "iteration 500 / 1000: loss 2.313295\n",
      "iteration 600 / 1000: loss 2.185422\n",
      "iteration 700 / 1000: loss 2.179218\n",
      "iteration 800 / 1000: loss 2.193752\n",
      "iteration 900 / 1000: loss 2.187154\n",
      "iteration 0 / 1000: loss 315.494293\n",
      "iteration 100 / 1000: loss 257.457487\n",
      "iteration 200 / 1000: loss 210.792964\n",
      "iteration 300 / 1000: loss 172.685005\n",
      "iteration 400 / 1000: loss 141.337358\n",
      "iteration 500 / 1000: loss 115.933379\n",
      "iteration 600 / 1000: loss 95.197131\n",
      "iteration 700 / 1000: loss 78.378226\n",
      "iteration 800 / 1000: loss 64.447653\n",
      "iteration 900 / 1000: loss 52.900399\n",
      "lr 1.000000e-08 reg 1.000000e+04 train accuracy: 0.148429 val accuracy: 0.141000\n",
      "lr 1.000000e-08 reg 2.500000e+04 train accuracy: 0.158327 val accuracy: 0.142000\n",
      "lr 1.000000e-08 reg 5.000000e+04 train accuracy: 0.167735 val accuracy: 0.182000\n",
      "lr 1.000000e-08 reg 1.000000e+05 train accuracy: 0.214469 val accuracy: 0.210000\n",
      "lr 5.000000e-08 reg 1.000000e+04 train accuracy: 0.249592 val accuracy: 0.260000\n",
      "lr 5.000000e-08 reg 2.500000e+04 train accuracy: 0.312163 val accuracy: 0.326000\n",
      "lr 5.000000e-08 reg 5.000000e+04 train accuracy: 0.304469 val accuracy: 0.326000\n",
      "lr 5.000000e-08 reg 1.000000e+05 train accuracy: 0.291306 val accuracy: 0.302000\n",
      "lr 1.000000e-07 reg 1.000000e+04 train accuracy: 0.333245 val accuracy: 0.323000\n",
      "lr 1.000000e-07 reg 2.500000e+04 train accuracy: 0.332184 val accuracy: 0.352000\n",
      "lr 1.000000e-07 reg 5.000000e+04 train accuracy: 0.308082 val accuracy: 0.323000\n",
      "lr 1.000000e-07 reg 1.000000e+05 train accuracy: 0.285755 val accuracy: 0.297000\n",
      "lr 1.000000e-06 reg 1.000000e+04 train accuracy: 0.356469 val accuracy: 0.365000\n",
      "lr 1.000000e-06 reg 2.500000e+04 train accuracy: 0.310224 val accuracy: 0.327000\n",
      "lr 1.000000e-06 reg 5.000000e+04 train accuracy: 0.308082 val accuracy: 0.308000\n",
      "lr 1.000000e-06 reg 1.000000e+05 train accuracy: 0.262286 val accuracy: 0.272000\n",
      "lr 5.000000e+07 reg 1.000000e+04 train accuracy: 0.100265 val accuracy: 0.087000\n",
      "lr 5.000000e+07 reg 2.500000e+04 train accuracy: 0.100265 val accuracy: 0.087000\n",
      "lr 5.000000e+07 reg 5.000000e+04 train accuracy: 0.100265 val accuracy: 0.087000\n",
      "lr 5.000000e+07 reg 1.000000e+05 train accuracy: 0.100265 val accuracy: 0.087000\n",
      "best validation accuracy achieved during cross-validation: 0.365000\n"
     ]
    }
   ],
   "source": [
    "# Use the validation set to tune hyperparameters (regularization strength and\n",
    "# learning rate). You should experiment with different ranges for the learning\n",
    "# rates and regularization strengths; if you are careful you should be able to\n",
    "# get a classification accuracy of over 0.35 on the validation set.\n",
    "\n",
    "from cs231n.classifiers import Softmax\n",
    "results = {}\n",
    "best_val = -1\n",
    "best_softmax = None\n",
    "\n",
    "################################################################################\n",
    "# TODO:                                                                        #\n",
    "# Use the validation set to set the learning rate and regularization strength. #\n",
    "# This should be identical to the validation that you did for the SVM; save    #\n",
    "# the best trained softmax classifer in best_softmax.                          #\n",
    "################################################################################\n",
    "\n",
    "# Provided as a reference. You may or may not want to change these hyperparameters\n",
    "# learning_rates = [1e-7, 5e-7]\n",
    "# regularization_strengths = [2.5e4, 5e4]\n",
    "learning_rates = [1e-7, 1e-8, 1e-6, 5e7, 5e-8]\n",
    "regularization_strengths = [2.5e4, 5e4, 1e5, 1e4]\n",
    "\n",
    "# *****START OF YOUR CODE (DO NOT DELETE/MODIFY THIS LINE)*****\n",
    "\n",
    "for lr in learning_rates:\n",
    "    for reg in regularization_strengths:\n",
    "        cls = Softmax()\n",
    "        loss_hist = cls.train(X_train, y_train, learning_rate=lr, reg=reg,\n",
    "                            num_iters=1000, verbose=True)\n",
    "        \n",
    "        y_train_pred = cls.predict(X_train)\n",
    "        training_accuracy = np.mean(y_train == y_train_pred)\n",
    "        y_val_pred = cls.predict(X_val)\n",
    "        validation_accuracy = np.mean(y_val == y_val_pred)\n",
    "\n",
    "        results[(lr, reg)] = (training_accuracy, validation_accuracy)\n",
    "\n",
    "        if validation_accuracy > best_val:\n",
    "            best_val = validation_accuracy\n",
    "            best_softmax = cls\n",
    "            # break\n",
    "\n",
    "# *****END OF YOUR CODE (DO NOT DELETE/MODIFY THIS LINE)*****\n",
    "    \n",
    "# Print out results.\n",
    "for lr, reg in sorted(results):\n",
    "    train_accuracy, val_accuracy = results[(lr, reg)]\n",
    "    print('lr %e reg %e train accuracy: %f val accuracy: %f' % (\n",
    "                lr, reg, train_accuracy, val_accuracy))\n",
    "    \n",
    "print('best validation accuracy achieved during cross-validation: %f' % best_val)"
   ]
  },
  {
   "cell_type": "code",
   "execution_count": 16,
   "id": "7f9053f3",
   "metadata": {},
   "outputs": [
    {
     "data": {
      "text/plain": [
       "{(1e-07, 25000.0): (0.33218367346938776, 0.352),\n",
       " (1e-07, 50000.0): (0.3080816326530612, 0.323),\n",
       " (1e-07, 100000.0): (0.28575510204081633, 0.297),\n",
       " (1e-07, 10000.0): (0.33324489795918366, 0.323),\n",
       " (1e-08, 25000.0): (0.1583265306122449, 0.142),\n",
       " (1e-08, 50000.0): (0.16773469387755102, 0.182),\n",
       " (1e-08, 100000.0): (0.21446938775510205, 0.21),\n",
       " (1e-08, 10000.0): (0.14842857142857144, 0.141),\n",
       " (1e-06, 25000.0): (0.3102244897959184, 0.327),\n",
       " (1e-06, 50000.0): (0.3080816326530612, 0.308),\n",
       " (1e-06, 100000.0): (0.2622857142857143, 0.272),\n",
       " (1e-06, 10000.0): (0.35646938775510206, 0.365),\n",
       " (50000000.0, 25000.0): (0.10026530612244898, 0.087),\n",
       " (50000000.0, 50000.0): (0.10026530612244898, 0.087),\n",
       " (50000000.0, 100000.0): (0.10026530612244898, 0.087),\n",
       " (50000000.0, 10000.0): (0.10026530612244898, 0.087),\n",
       " (5e-08, 25000.0): (0.31216326530612243, 0.326),\n",
       " (5e-08, 50000.0): (0.304469387755102, 0.326),\n",
       " (5e-08, 100000.0): (0.2913061224489796, 0.302),\n",
       " (5e-08, 10000.0): (0.24959183673469387, 0.26)}"
      ]
     },
     "execution_count": 16,
     "metadata": {},
     "output_type": "execute_result"
    }
   ],
   "source": [
    "results"
   ]
  },
  {
   "cell_type": "code",
   "execution_count": 17,
   "id": "8a1f9db3",
   "metadata": {
    "test": "test"
   },
   "outputs": [
    {
     "name": "stdout",
     "output_type": "stream",
     "text": [
      "softmax on raw pixels final test set accuracy: 0.362000\n"
     ]
    }
   ],
   "source": [
    "# evaluate on test set\n",
    "# Evaluate the best softmax on test set\n",
    "y_test_pred = best_softmax.predict(X_test)\n",
    "test_accuracy = np.mean(y_test == y_test_pred)\n",
    "print('softmax on raw pixels final test set accuracy: %f' % (test_accuracy, ))"
   ]
  },
  {
   "cell_type": "markdown",
   "id": "86b9b65c",
   "metadata": {
    "tags": [
     "pdf-inline"
    ]
   },
   "source": [
    "**Inline Question 2** - *True or False*\n",
    "\n",
    "Suppose the overall training loss is defined as the sum of the per-datapoint loss over all training examples. It is possible to add a new datapoint to a training set that would leave the SVM loss unchanged, but this is not the case with the Softmax classifier loss.\n",
    "\n",
    "$\\color{blue}{\\textit Your Answer:}$\n",
    "\n",
    "\n",
    "$\\color{blue}{\\textit Your Explanation:}$\n",
    "\n"
   ]
  },
  {
   "cell_type": "code",
   "execution_count": 18,
   "id": "009f08b9",
   "metadata": {},
   "outputs": [
    {
     "data": {
      "image/png": "[encoded data removed]",
      "text/plain": [
       "<Figure size 1000x800 with 10 Axes>"
      ]
     },
     "metadata": {},
     "output_type": "display_data"
    }
   ],
   "source": [
    "# Visualize the learned weights for each class\n",
    "w = best_softmax.W[:-1,:] # strip out the bias\n",
    "w = w.reshape(32, 32, 3, 10)\n",
    "\n",
    "w_min, w_max = np.min(w), np.max(w)\n",
    "\n",
    "classes = ['plane', 'car', 'bird', 'cat', 'deer', 'dog', 'frog', 'horse', 'ship', 'truck']\n",
    "for i in range(10):\n",
    "    plt.subplot(2, 5, i + 1)\n",
    "    \n",
    "    # Rescale the weights to be between 0 and 255\n",
    "    wimg = 255.0 * (w[:, :, :, i].squeeze() - w_min) / (w_max - w_min)\n",
    "    plt.imshow(wimg.astype('uint8'))\n",
    "    plt.axis('off')\n",
    "    plt.title(classes[i])"
   ]
  },
  {
   "cell_type": "code",
   "execution_count": null,
   "id": "3569b36b",
   "metadata": {},
   "outputs": [],
   "source": []
  }
 ],
 "metadata": {
  "kernelspec": {
   "display_name": "Python 3",
   "language": "python",
   "name": "python3"
  },
  "language_info": {
   "codemirror_mode": {
    "name": "ipython",
    "version": 3
   },
   "file_extension": ".py",
   "mimetype": "text/x-python",
   "name": "python",
   "nbconvert_exporter": "python",
   "pygments_lexer": "ipython3",
   "version": "3.8.10"
  }
 },
 "nbformat": 4,
 "nbformat_minor": 5
}
